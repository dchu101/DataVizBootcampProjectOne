{
 "cells": [
  {
   "cell_type": "code",
   "execution_count": 1,
   "metadata": {},
   "outputs": [],
   "source": [
    "import pandas as pd\n",
    "import numpy as np\n",
    "import ast \n",
    "import json\n",
    "import time\n"
   ]
  },
  {
   "cell_type": "code",
   "execution_count": 3,
   "metadata": {},
   "outputs": [],
   "source": [
    "#makes a data frame of the reviews, minus the books\n",
    "\n",
    "no_books_reviews_df = pd.read_csv('reviews (no books).csv')"
   ]
  },
  {
   "cell_type": "code",
   "execution_count": 4,
   "metadata": {},
   "outputs": [],
   "source": [
    "#Generates a list of all book review files names\n",
    "\n",
    "book_prefix='Book Reviews/reviews_books_'\n",
    "book_review_files = []\n",
    "\n",
    "for file_no in range(1,3001):\n",
    "    book_review_files.append(book_prefix + str(file_no).zfill(4) + '.csv')"
   ]
  },
  {
   "cell_type": "code",
   "execution_count": 5,
   "metadata": {},
   "outputs": [
    {
     "name": "stdout",
     "output_type": "stream",
     "text": [
      "Book Reviews/reviews_books_0100.csv\n",
      "Book Reviews/reviews_books_0200.csv\n",
      "Book Reviews/reviews_books_0300.csv\n",
      "Book Reviews/reviews_books_0400.csv\n",
      "Book Reviews/reviews_books_0500.csv\n",
      "Book Reviews/reviews_books_0600.csv\n",
      "Book Reviews/reviews_books_0700.csv\n",
      "Book Reviews/reviews_books_0800.csv\n",
      "Book Reviews/reviews_books_0900.csv\n",
      "Book Reviews/reviews_books_1000.csv\n",
      "Book Reviews/reviews_books_1100.csv\n",
      "Book Reviews/reviews_books_1200.csv\n",
      "Book Reviews/reviews_books_1300.csv\n",
      "Book Reviews/reviews_books_1400.csv\n",
      "Book Reviews/reviews_books_1500.csv\n",
      "Book Reviews/reviews_books_1600.csv\n",
      "Book Reviews/reviews_books_1700.csv\n",
      "Book Reviews/reviews_books_1800.csv\n",
      "Book Reviews/reviews_books_1900.csv\n",
      "Book Reviews/reviews_books_2000.csv\n",
      "Book Reviews/reviews_books_2100.csv\n",
      "Book Reviews/reviews_books_2200.csv\n",
      "Book Reviews/reviews_books_2300.csv\n",
      "Book Reviews/reviews_books_2400.csv\n",
      "Book Reviews/reviews_books_2500.csv\n",
      "Book Reviews/reviews_books_2600.csv\n",
      "Book Reviews/reviews_books_2700.csv\n",
      "Book Reviews/reviews_books_2800.csv\n",
      "Book Reviews/reviews_books_2900.csv\n",
      "Book Reviews/reviews_books_3000.csv\n"
     ]
    }
   ],
   "source": [
    "#Generates a list of data frames to concatenate\n",
    "\n",
    "i = 0\n",
    "book_concat_list=[]\n",
    "\n",
    "\n",
    "for file in book_review_files:\n",
    "    df = pd.read_csv(file)\n",
    "    book_concat_list.append(df)\n",
    "    i += 1\n",
    "    \n",
    "    if i % 100 == 0:\n",
    "        print(file)\n",
    "        \n",
    "        "
   ]
  },
  {
   "cell_type": "code",
   "execution_count": 6,
   "metadata": {},
   "outputs": [],
   "source": [
    "#Concats a single book reviews dataframe\n",
    "\n",
    "book_reviews_df = pd.concat(book_concat_list)\n",
    "\n",
    "book_reviews_df['category'] = 'Books'"
   ]
  },
  {
   "cell_type": "code",
   "execution_count": 7,
   "metadata": {},
   "outputs": [],
   "source": [
    "#concats books and no books review dataframes\n",
    "\n",
    "concat_list = [no_books_reviews_df, book_reviews_df]\n",
    "\n",
    "all_reviews = pd.concat(concat_list)"
   ]
  },
  {
   "cell_type": "code",
   "execution_count": 9,
   "metadata": {},
   "outputs": [],
   "source": [
    "#creates list of all file names containing the meta data\n",
    "\n",
    "meta_list = []\n",
    "\n",
    "# apps\n",
    "#prefix='Metadata/meta_Apps_for_Android_file'\n",
    "#for file_no in range(1,2):\n",
    "#    meta_list.append(prefix + str(file_no).zfill(4) + '.csv')\n",
    "\n",
    "#books\n",
    "prefix='Metadata/meta_Books_file'\n",
    "for file_no in range(1,35):\n",
    "    meta_list.append(prefix + str(file_no).zfill(4) + '.csv')\n",
    "    \n",
    "#CDs\n",
    "prefix='Metadata/meta_CDs_and_Vinyl_file'\n",
    "for file_no in range(1,6):\n",
    "    meta_list.append(prefix + str(file_no).zfill(4) + '.csv')\n",
    "\n",
    "#electronics\n",
    "#prefix='Metadata/meta_electronics_file'\n",
    "#for file_no in range(1,7):\n",
    "#    meta_list.append(prefix + str(file_no).zfill(4) + '.csv')\n",
    "\n",
    "#Kindle\n",
    "#prefix='Metadata/meta_Kindle_store_file'\n",
    "#for file_no in range(1,7):\n",
    "#    meta_list.append(prefix + str(file_no).zfill(4) + '.csv')\n",
    "    \n",
    "#Movies_and_TV\n",
    "#prefix='Metadata/meta_Movies_and_TV_file'\n",
    "#for file_no in range(1,5):\n",
    "#    meta_list.append(prefix + str(file_no).zfill(4) + '.csv')\n"
   ]
  },
  {
   "cell_type": "code",
   "execution_count": 10,
   "metadata": {},
   "outputs": [],
   "source": [
    "#concats a list of smaller metadata datafames\n",
    "\n",
    "meta_concat_list=[]\n",
    "\n",
    "\n",
    "for file in meta_list:\n",
    "    df = pd.read_csv(file)\n",
    "    meta_concat_list.append(df)\n"
   ]
  },
  {
   "cell_type": "code",
   "execution_count": 11,
   "metadata": {},
   "outputs": [
    {
     "name": "stdout",
     "output_type": "stream",
     "text": [
      "390000\n",
      "390000\n"
     ]
    }
   ],
   "source": [
    "#concats a single metadata dataframe, de-dupes\n",
    "\n",
    "meta_df = pd.concat(meta_concat_list)\n",
    "\n",
    "print(len(meta_df))\n",
    "\n",
    "meta_df.drop_duplicates(inplace=True)\n",
    "\n",
    "print(len(meta_df))"
   ]
  },
  {
   "cell_type": "code",
   "execution_count": 12,
   "metadata": {},
   "outputs": [],
   "source": [
    "#merges the reviews df with the metadata df\n",
    "\n",
    "amazon_data = all_reviews.merge(meta_df, how='left', left_on='asin', right_on='ASIN')"
   ]
  },
  {
   "cell_type": "code",
   "execution_count": 13,
   "metadata": {},
   "outputs": [],
   "source": [
    "#Drop 'ASIN' from the right column\n",
    "\n",
    "#Some reviews will still have no metadata\n",
    "\n",
    "amazon_data = amazon_data.drop('ASIN', axis=1)"
   ]
  },
  {
   "cell_type": "code",
   "execution_count": 14,
   "metadata": {},
   "outputs": [
    {
     "data": {
      "text/plain": [
       "4821622"
      ]
     },
     "execution_count": 14,
     "metadata": {},
     "output_type": "execute_result"
    }
   ],
   "source": [
    "len(amazon_data)"
   ]
  },
  {
   "cell_type": "code",
   "execution_count": 15,
   "metadata": {},
   "outputs": [
    {
     "data": {
      "text/html": [
       "<div>\n",
       "<style scoped>\n",
       "    .dataframe tbody tr th:only-of-type {\n",
       "        vertical-align: middle;\n",
       "    }\n",
       "\n",
       "    .dataframe tbody tr th {\n",
       "        vertical-align: top;\n",
       "    }\n",
       "\n",
       "    .dataframe thead th {\n",
       "        text-align: right;\n",
       "    }\n",
       "</style>\n",
       "<table border=\"1\" class=\"dataframe\">\n",
       "  <thead>\n",
       "    <tr style=\"text-align: right;\">\n",
       "      <th></th>\n",
       "      <th>asin</th>\n",
       "      <th>helpful</th>\n",
       "      <th>overall</th>\n",
       "      <th>reviewText</th>\n",
       "      <th>reviewTime</th>\n",
       "      <th>reviewerID</th>\n",
       "      <th>reviewerName</th>\n",
       "      <th>summary</th>\n",
       "      <th>unixReviewTime</th>\n",
       "      <th>Title</th>\n",
       "      <th>Sale Rank</th>\n",
       "    </tr>\n",
       "    <tr>\n",
       "      <th>category</th>\n",
       "      <th></th>\n",
       "      <th></th>\n",
       "      <th></th>\n",
       "      <th></th>\n",
       "      <th></th>\n",
       "      <th></th>\n",
       "      <th></th>\n",
       "      <th></th>\n",
       "      <th></th>\n",
       "      <th></th>\n",
       "      <th></th>\n",
       "    </tr>\n",
       "  </thead>\n",
       "  <tbody>\n",
       "    <tr>\n",
       "      <th>Books</th>\n",
       "      <td>3000000</td>\n",
       "      <td>3000000</td>\n",
       "      <td>3000000</td>\n",
       "      <td>2999753</td>\n",
       "      <td>3000000</td>\n",
       "      <td>0</td>\n",
       "      <td>0</td>\n",
       "      <td>0</td>\n",
       "      <td>0</td>\n",
       "      <td>2539170</td>\n",
       "      <td>0</td>\n",
       "    </tr>\n",
       "    <tr>\n",
       "      <th>CDs and Vinyl</th>\n",
       "      <td>327759</td>\n",
       "      <td>327759</td>\n",
       "      <td>327759</td>\n",
       "      <td>327748</td>\n",
       "      <td>327759</td>\n",
       "      <td>327759</td>\n",
       "      <td>326635</td>\n",
       "      <td>327740</td>\n",
       "      <td>327759</td>\n",
       "      <td>166810</td>\n",
       "      <td>255726</td>\n",
       "    </tr>\n",
       "    <tr>\n",
       "      <th>Electronics</th>\n",
       "      <td>1493863</td>\n",
       "      <td>1493863</td>\n",
       "      <td>1493863</td>\n",
       "      <td>1492902</td>\n",
       "      <td>1493863</td>\n",
       "      <td>1493863</td>\n",
       "      <td>1469941</td>\n",
       "      <td>1493849</td>\n",
       "      <td>1493863</td>\n",
       "      <td>0</td>\n",
       "      <td>0</td>\n",
       "    </tr>\n",
       "  </tbody>\n",
       "</table>\n",
       "</div>"
      ],
      "text/plain": [
       "                  asin  helpful  overall  reviewText  reviewTime  reviewerID  \\\n",
       "category                                                                       \n",
       "Books          3000000  3000000  3000000     2999753     3000000           0   \n",
       "CDs and Vinyl   327759   327759   327759      327748      327759      327759   \n",
       "Electronics    1493863  1493863  1493863     1492902     1493863     1493863   \n",
       "\n",
       "               reviewerName  summary  unixReviewTime    Title  Sale Rank  \n",
       "category                                                                  \n",
       "Books                     0        0               0  2539170          0  \n",
       "CDs and Vinyl        326635   327740          327759   166810     255726  \n",
       "Electronics         1469941  1493849         1493863        0          0  "
      ]
     },
     "execution_count": 15,
     "metadata": {},
     "output_type": "execute_result"
    }
   ],
   "source": [
    "amazon_data.groupby(['category']).count()"
   ]
  }
 ],
 "metadata": {
  "kernelspec": {
   "display_name": "Python 3",
   "language": "python",
   "name": "python3"
  },
  "language_info": {
   "codemirror_mode": {
    "name": "ipython",
    "version": 3
   },
   "file_extension": ".py",
   "mimetype": "text/x-python",
   "name": "python",
   "nbconvert_exporter": "python",
   "pygments_lexer": "ipython3",
   "version": "3.6.4"
  }
 },
 "nbformat": 4,
 "nbformat_minor": 2
}
